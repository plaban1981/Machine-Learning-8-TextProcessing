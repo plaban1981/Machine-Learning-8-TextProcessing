{
 "cells": [
  {
   "cell_type": "markdown",
   "metadata": {
    "collapsed": true
   },
   "source": [
    "# Problem Statement\n",
    "In this assignment students have to find the frequency of words in a webpage. User can use urllib and BeautifulSoup to extract text from webpage."
   ]
  },
  {
   "cell_type": "code",
   "execution_count": 72,
   "metadata": {},
   "outputs": [],
   "source": [
    "from bs4 import BeautifulSoup\n",
    "import urllib.request\n",
    "import nltk\n",
    "response = urllib.request.urlopen('http://php.net/')\n",
    "html = response.read()\n",
    "soup = BeautifulSoup(html,\"html5lib\")"
   ]
  },
  {
   "cell_type": "code",
   "execution_count": 73,
   "metadata": {},
   "outputs": [
    {
     "name": "stdout",
     "output_type": "stream",
     "text": [
      "PHP: Hypertext PreprocessorDownloadsDocumentationGet InvolvedHelpGetting StartedIntroductionA simple tutorialLanguage ReferenceBasic syntaxTypesVariablesConstantsExpressionsOperatorsControl StructuresFunctionsClasses and ObjectsNamespacesErrorsExceptionsGeneratorsReferences ExplainedPredefined VariablesPredefined ExceptionsPredefined Interfaces and ClassesContext options and parametersSupported Protocols and WrappersSecurityIntroductionGeneral considerationsInstalled as CGI binaryInstalled as an Apache moduleSession SecurityFilesystem SecurityDatabase SecurityError ReportingUsing Register GlobalsUser Submitted DataMagic QuotesHiding PHPKeeping CurrentFeaturesHTTP authentication with PHPCookiesSessionsDealing with XFormsHandling file uploadsUsing remote filesConnection handlingPersistent Database ConnectionsSafe ModeCommand line usageGarbage CollectionDTrace Dynamic TracingFunction ReferenceAffecting PHP's BehaviourAudio Formats ManipulationAuthentication ServicesCommand Line Specific ExtensionsCompression and Archive ExtensionsCredit Card ProcessingCryptography ExtensionsDatabase ExtensionsDate and Time Related ExtensionsFile System Related ExtensionsHuman Language and Character Encoding SupportImage Processing and GenerationMail Related ExtensionsMathematical ExtensionsNon-Text MIME OutputProcess Control ExtensionsOther Basic ExtensionsOther ServicesSearch Engine ExtensionsServer Specific ExtensionsSession ExtensionsText ProcessingVariable and Type Related ExtensionsWeb ServicesWindows Only ExtensionsXML ManipulationGUI ExtensionsKeyboard Shortcuts?This helpjNext menu itemkPrevious menu itemg pPrevious man pageg nNext man pageGScroll to bottomg gScroll to topg hGoto homepageg sGoto search(current page)/Focus search boxPHP is a popular general-purpose scripting language that is especially suited to web development.Fast, flexible and pragmatic, PHP powers everything from your blog to the most popular websites in the world.Download5.6.38·Release Notes·Upgrading7.0.32·Release Notes·Upgrading7.1.22·Release Notes·Upgrading7.2.10·Release Notes·Upgrading13 Sep 2018PHP 5.6.38 ReleasedThe PHP development team announces the immediate availability of PHP\n",
      "        5.6.38. This is a security release. One security bug has been fixed\n",
      "        in this release.\n",
      "\n",
      "     All PHP 5.6 users are encouraged to upgrade to this version.For source downloads of PHP 5.6.38 please visit ourdownloads page,\n",
      "     Windows source and binaries can be found onwindows.php.net/download/.\n",
      "     The list of changes is recorded in theChangeLog.13 Sep 2018PHP 7.1.22 ReleasedThe PHP development team announces the immediate availability of PHP \n",
      "     7.1.22. This is a security release. One security bug has been fixed\n",
      "     in this release.\n",
      "    \n",
      "     All PHP 7.1 users are encouraged to upgrade to this version.For source downloads of PHP 7.1.22 please visit ourdownloads page,\n",
      "     Windows source and binaries can be found onwindows.php.net/download/.\n",
      "     The list of changes is recorded in theChangeLog.13 Sep 2018PHP 7.0.32 ReleasedThe PHP development team announces the immediate availability of PHP\n",
      "\t7.0.32. This is a security release. One security bug has been fixed\n",
      "\tin this release.\n",
      "     \n",
      "     All PHP 7.0 users are encouraged to upgrade to this version.For source downloads of PHP 7.0.32 please visit ourdownloads page,\n",
      "     Windows source and binaries can be found onwindows.php.net/download/.\n",
      "     The list of changes is recorded in theChangeLog.13 Sep 2018PHP 7.3.0RC1 ReleasedThe PHP team is glad to announce the release of the next PHP 7.3.0 pre-release, PHP 7.3.0RC1.\n",
      "        The rough outline of the PHP 7.3 release cycle is specified in thePHP Wiki.For source downloads of PHP 7.3.0RC1 please visit thedownload page.\n",
      "        Windows sources and binaries can be found onwindows.php.net/qa/.Please carefully test this version and report any issues found in thebug reporting system.THIS IS A DEVELOPMENT PREVIEW - DO NOT USE IT IN PRODUCTION!For more information on the new features and other changes, you can read theNEWSfile,\n",
      "        or theUPGRADINGfile for a complete list of upgrading notes. Internal changes are listed in theUPGRADING.INTERNALSfile.\n",
      "        These files can also be found in the release archive.The next release would be RC2, planned for September 27th.The signatures for the release can be found inthe manifestor onthe QA site.Thank you for helping us make PHP better.13 Sep 2018PHP 7.2.10 ReleasedThe PHP development team announces the immediate availability of PHP\n",
      "     7.2.10. This is a security release which also contains several minor bug fixes.All PHP 7.2 users are encouraged to upgrade to this version.For source downloads of PHP 7.2.10 please visit ourdownloads page,\n",
      "     Windows source and binaries can be found onwindows.php.net/download/.\n",
      "     The list of changes is recorded in theChangeLog.30 Aug 2018PHP 7.3.0.beta3 ReleasedThe PHP team is glad to announce the release of the seventh PHP 7.3.0 version, PHP 7.3.0beta3.\n",
      "        The rough outline of the PHP 7.3 release cycle is specified in thePHP Wiki.For source downloads of PHP 7.3.0beta3 please visit thedownload page.\n",
      "        Windows sources and binaries can be found onwindows.php.net/qa/.Please carefully test this version and report any issues found in thebug reporting system.THIS IS A DEVELOPMENT PREVIEW - DO NOT USE IT IN PRODUCTION!For more information on the new features and other changes, you can read theNEWSfile,\n",
      "        or theUPGRADINGfile for a complete list of upgrading notes. Internal changes are listed in theUPGRADING.INTERNALSfile.\n",
      "        These files can also be found in the release archive.The next release would be RC1, planned for September 13th.The signatures for the release can be found inthe manifestor onthe QA site.Thank you for helping us make PHP better.17 Aug 2018PHP 7.1.21 ReleasedThe PHP development team announces the immediate availability of PHP\n",
      "          7.1.21. This is a bugfix release.\n",
      "     \n",
      "          All PHP 7.1 users are encouraged to upgrade to this version.For source downloads of PHP 7.1.21 please visit ourdownloads page,\n",
      "          Windows source and binaries can be found onwindows.php.net/download/.\n",
      "          The list of changes is recorded in theChangeLog.16 Aug 2018PHP 7.2.9 ReleasedThe PHP development team announces the immediate availability of PHP\n",
      "     7.2.9. This is a bugfix release.All PHP 7.2 users are encouraged to upgrade to this version.For source downloads of PHP 7.2.9 please visit ourdownloads page,\n",
      "     Windows source and binaries can be found onwindows.php.net/download/.\n",
      "     The list of changes is recorded in theChangeLog.16 Aug 2018PHP 7.3.0.beta2 ReleasedThe PHP team is glad to announce the release of the sixth PHP 7.3.0 version, PHP 7.3.0beta2.\n",
      "        The rough outline of the PHP 7.3 release cycle is specified in thePHP Wiki.For source downloads of PHP 7.3.0beta2 please visit thedownload page.\n",
      "        Windows sources and binaries can be found onwindows.php.net/qa/.Please carefully test this version and report any issues found in thebug reporting system.THIS IS A DEVELOPMENT PREVIEW - DO NOT USE IT IN PRODUCTION!For more information on the new features and other changes, you can read theNEWSfile,\n",
      "        or theUPGRADINGfile for a complete list of upgrading notes. Internal changes are listed in theUPGRADING.INTERNALSfile.\n",
      "        These files can also be found in the release archive.The next release would be Beta 3, planned for August 30th.The signatures for the release can be found inthe manifestor onthe QA site.Thank you for helping us make PHP better.02 Aug 2018PHP 7.3.0.beta1 ReleasedThe PHP team is glad to announce the release of the fifth PHP 7.3.0 version, PHP 7.3.0beta1.\n",
      "        The rough outline of the PHP 7.3 release cycle is specified in thePHP Wiki.For source downloads of PHP 7.3.0beta1 please visit thedownload page.\n",
      "        Windows sources and binaries can be found onwindows.php.net/qa/.Please carefully test this version and report any issues found in thebug reporting system.THIS IS A DEVELOPMENT PREVIEW - DO NOT USE IT IN PRODUCTION!For more information on the new features and other changes, you can read theNEWSfile,\n",
      "        or theUPGRADINGfile for a complete list of upgrading notes. These files can also be found in the release archive.The next release would be Beta 2, planned for August 16th.The signatures for the release can be found inthe manifestor onthe QA site.Thank you for helping us make PHP better.19 Jul 2018PHP 7.3.0alpha4 ReleasedThe PHP team is glad to announce the release of the fourth PHP 7.3.0 version, PHP 7.3.0alpha4.\n",
      "        The rough outline of the PHP 7.3 release cycle is specified in thePHP Wiki.For source downloads of PHP 7.3.0alpha4 please visit thedownload page.\n",
      "        Windows sources and binaries can be found onwindows.php.net/qa/.Please carefully test this version and report any issues found in thebug reporting system.THIS IS A DEVELOPMENT PREVIEW - DO NOT USE IT IN PRODUCTION!For more information on the new features and other changes, you can read theNEWSfile,\n",
      "        or theUPGRADINGfile for a complete list of upgrading notes. These files can also be found in the release archive.The next release would be Beta 1, planned for August 2nd.The signatures for the release can be found inthe manifestor onthe QA site.Thank you for helping us make PHP better.05 Jul 2018PHP 7.3.0 alpha 3 ReleasedThe PHP team is glad to announce the release of the third PHP 7.3.0 version, PHP 7.3.0 Alpha 3. \n",
      "      The rough outline of the PHP 7.3 release cycle is specified in thePHP Wiki.For source downloads of PHP 7.3.0 Alpha 3 please visit thedownload page.\n",
      "      Windows sources and binaries can be found onwindows.php.net/qa/.Please carefully test this version and report any issues found in thebug reporting system.THIS IS A DEVELOPMENT PREVIEW - DO NOT USE IT IN PRODUCTION!For more information on the new features and other changes, you can read theNEWSfile,\n",
      "      or theUPGRADINGfile for a complete list of upgrading notes. These files can also be found in the release archive.The next release would be Beta 1, planned for July 19th.The signatures for the release can be found inthe manifestor onthe QA site.Thank you for helping us make PHP better.21 Jun 2018PHP 7.3.0 alpha 2 ReleasedThe PHP team is glad to announce the release of the second PHP 7.3.0 version, PHP 7.3.0 Alpha 2. \n",
      "      The rough outline of the PHP 7.3 release cycle is specified in thePHP Wiki.For source downloads of PHP 7.3.0 Alpha 2 please visit thedownload page.\n",
      "      Windows sources and binaries can be found onwindows.php.net/qa/.Please carefully test this version and report any issues found in thebug reporting system.THIS IS A DEVELOPMENT PREVIEW - DO NOT USE IT IN PRODUCTION!For more information on the new features and other changes, you can read theNEWSfile,\n",
      "      or theUPGRADINGfile for a complete list of upgrading notes. These files can also be found in the release archive.The next release would be Alpha 3, planned for July 5.The signatures for the release can be found inthe manifestor onthe QA site.Thank you for helping us make PHP better.07 Jun 2018PHP 7.3.0 alpha 1 ReleasedPHP team is glad to announce the release of the first PHP 7.3.0 version, PHP 7.3.0 Alpha 1. \n",
      "\t This starts the PHP 7.3 release cycle, the rough outline of which is specified in thePHP Wiki.For source downloads of PHP 7.3.0 Alpha 1 please visit thedownload page.Please carefully test this version and report any issues found in thebug reporting system.Please DO NOT use this version in production, it is an early test version.For more information on the new features and other changes, you can read theNEWSfile,\n",
      "\t     or theUPGRADINGfile for a complete list of upgrading notes. These files can also be found in the release archive.The next release would be Alpha 2, planned for June 21.The signatures for the release can be found inthe manifestor onthe QA site.Thank you for helping us make PHP better.01 Feb 2018PHP 7.2.2 ReleasedThe PHP development team announces the immediate availability of PHP\n",
      "      7.2.2. This is a bugfix release, with several bug fixes included.All PHP 7.2 users are encouraged to upgrade to this version.For source downloads of PHP 7.2.2 please visit ourdownloads page,\n",
      "      Windows source and binaries can be found onwindows.php.net/download/.\n",
      "      The list of changes is recorded in theChangeLog.12 Oct 2017PHP 7.2.0 Release Candidate 4 ReleasedThe PHP development team announces the immediate availability of PHP 7.2.0 RC4.\n",
      "     This release is the fourth Release Candidate for 7.2.0.\n",
      "     All users of PHP are encouraged to test this version carefully, and report any bugs\n",
      "     and incompatibilities in thebug tracking system.THIS IS A DEVELOPMENT PREVIEW - DO NOT USE IT IN PRODUCTION!For more information on the new features and other changes, you can read theNEWSfile,\n",
      "     or theUPGRADINGfile for a complete list of upgrading notes. These files can also be found in the release archive.For source downloads of PHP 7.2.0 Release Candidate 4 please visit thedownloadpage,\n",
      "     Windows sources and binaries can be found atwindows.php.net/qa/.The next Release Candidate will be announced on the 26th of October.\n",
      "     You can also read the full list of planned releases onour wiki.Thank you for helping us make PHP better.28 Sep 2017PHP 7.2.0 Release Candidate 3 ReleasedThe PHP development team announces the immediate availability of PHP 7.2.0 RC3.\n",
      "     This release is the third Release Candidate for 7.2.0.\n",
      "     All users of PHP are encouraged to test this version carefully, and report any bugs\n",
      "     and incompatibilities in thebug tracking system.THIS IS A DEVELOPMENT PREVIEW - DO NOT USE IT IN PRODUCTION!For more information on the new features and other changes, you can read theNEWSfile,\n",
      "     or theUPGRADINGfile for a complete list of upgrading notes. These files can also be found in the release archive.For source downloads of PHP 7.2.0 Release Candidate 3 please visit thedownloadpage,\n",
      "     Windows sources and binaries can be found atwindows.php.net/qa/.The next Release Candidate will be announced on the 12th of October.\n",
      "     You can also read the full list of planned releases onour wiki.Thank you for helping us make PHP better.31 Aug 2017PHP 7.2.0 Release Candidate 1 ReleasedThe PHP development team announces the immediate availability of PHP 7.2.0 Release\n",
      "      Candidate 1. This release is the first Release Candidate for 7.2.0.\n",
      "      All users of PHP are encouraged to test this version carefully, and report any bugs\n",
      "      and incompatibilities in thebug tracking system.THIS IS A DEVELOPMENT PREVIEW - DO NOT USE IT IN PRODUCTION!For more information on the new features and other changes, you can read theNEWSfile,\n",
      "      or theUPGRADINGfile for a complete list of upgrading notes. These files can also be found in the release archive.For source downloads of PHP 7.2.0 Release Candidate 1 please visit thedownloadpage,\n",
      "      Windows sources and binaries can be found atwindows.php.net/qa/.The second Release Candidate will be released on the 14th of September.\n",
      "      You can also read the full list of planned releases onour wiki.Thank you for helping us make PHP better.17 Aug 2017PHP 7.2.0 Beta 3 ReleasedThe PHP development team announces the immediate availability of PHP 7.2.0 Beta 3.\n",
      "      This release is the third and final beta for 7.2.0. All users of PHP are encouraged\n",
      "      to test this version carefully, and report any bugs and incompatibilities in thebug tracking system.THIS IS A DEVELOPMENT PREVIEW - DO NOT USE IT IN PRODUCTION!For more information on the new features and other changes, you can read theNEWSfile,\n",
      "      or theUPGRADINGfile for a complete list of upgrading notes. These files can also be found in the release archive.For source downloads of PHP 7.2.0 Beta 3 please visit thedownloadpage,\n",
      "      Windows sources and binaries can be found atwindows.php.net/qa/.The first Release Candidate will be released on the 31th of August.\n",
      "      You can also read the full list of planned releases onour wiki.Thank you for helping us make PHP better.06 Jul 2017PHP 7.2.0 Alpha 3 ReleasedThe PHP development team announces the immediate availability of PHP 7.2.0 Alpha 3.\n",
      "     This release contains fixes and improvements relative to Alpha 2.\n",
      "     All users of PHP are encouraged to test this version carefully,\n",
      "     and report any bugs and incompatibilities in thebug tracking system.THIS IS A DEVELOPMENT PREVIEW - DO NOT USE IT IN PRODUCTION!For information on new features and other changes, you can read theNEWSfile,\n",
      "     or theUPGRADINGfile\n",
      "     for a complete list of upgrading notes. These files can also be found in the release archive.For source downloads of PHP 7.2.0 Alpha 3 please visit thedownloadpage,\n",
      "     Windows sources and binaries can be found onwindows.php.net/qa/.The first beta will be released on the 20th of July. You can also read the full list of planned releases on ourwiki.Thank you for helping us make PHP better.Older News EntriesUpcoming conferencesPHP Day Curitiba 2018php[world] 2018Northeast PHP Boston 2018ZendCon & OpenEnterprise 2018User Group EventsSpecial ThanksSocial media@official_phpCopyright © 2001-2018 The PHP GroupMy PHP.netContactOther PHP.net sitesMirror sitesPrivacy policy\n"
     ]
    }
   ],
   "source": [
    "sentences = soup.get_text(strip=True)\n",
    "print (sentences)"
   ]
  },
  {
   "cell_type": "markdown",
   "metadata": {},
   "source": [
    "# Tokenizing Using Python"
   ]
  },
  {
   "cell_type": "code",
   "execution_count": 74,
   "metadata": {},
   "outputs": [],
   "source": [
    "words = [i for i in sentences.split()]"
   ]
  },
  {
   "cell_type": "code",
   "execution_count": 75,
   "metadata": {},
   "outputs": [
    {
     "data": {
      "text/plain": [
       "2440"
      ]
     },
     "execution_count": 75,
     "metadata": {},
     "output_type": "execute_result"
    }
   ],
   "source": [
    "len(words)"
   ]
  },
  {
   "cell_type": "markdown",
   "metadata": {},
   "source": [
    "# Count Word Frequency"
   ]
  },
  {
   "cell_type": "code",
   "execution_count": 76,
   "metadata": {},
   "outputs": [
    {
     "name": "stdout",
     "output_type": "stream",
     "text": [
      "ExtensionsText:1\n",
      "7.0:1\n",
      "handlingPersistent:1\n",
      "theChangeLog.12:1\n",
      "20th:1\n",
      "several:2\n",
      "test:14\n",
      "has:3\n",
      "7.3.0alpha4:2\n",
      "source:27\n",
      "thebug:13\n",
      "remote:1\n",
      "2nd.The:1\n",
      "of:83\n",
      "2,:2\n",
      "7.1:2\n",
      "CurrentFeaturesHTTP:1\n",
      "7.3.0.beta1:1\n",
      "been:3\n",
      "StartedIntroductionA:1\n",
      "You:5\n",
      "7.3.0beta3.:1\n",
      "release,:1\n",
      "bugfix:3\n",
      "archive.For:5\n",
      "Notes·Upgrading7.1.22·Release:1\n",
      "a:21\n",
      "Type:1\n",
      "QA:8\n",
      "2001-2018:1\n",
      "nNext:1\n",
      "7.3:8\n",
      "1:4\n",
      "version:14\n",
      "26th:1\n",
      "thedownload:8\n",
      "which:2\n",
      "Windows:19\n",
      "Basic:1\n",
      "ourwiki.Thank:1\n",
      "cycle,:1\n",
      "Card:1\n",
      "list:25\n",
      "theChangeLog.30:1\n",
      "carefully,:5\n",
      "language:1\n",
      "ProcessingVariable:1\n",
      "system.Please:1\n",
      "options:1\n",
      "Encoding:1\n",
      "Boston:1\n",
      "2018ZendCon:1\n",
      "Jun:2\n",
      "InvolvedHelpGetting:1\n",
      "14th:1\n",
      "visit:20\n",
      "ReportingUsing:1\n",
      "ExtensionsKeyboard:1\n",
      "thePHP:8\n",
      "Hypertext:1\n",
      "files:13\n",
      "version,:7\n",
      "ReferenceBasic:1\n",
      "7.2.10:2\n",
      "StructuresFunctionsClasses:1\n",
      "Submitted:1\n",
      "SupportImage:1\n",
      "release.All:1\n",
      "August.:1\n",
      "All:9\n",
      "Sep:6\n",
      "archive.The:8\n",
      "team:20\n",
      "ConnectionsSafe:1\n",
      "please:20\n",
      "7.2.9.:1\n",
      "considerationsInstalled:1\n",
      "Control:1\n",
      "cycle:7\n",
      "that:1\n",
      "ExtensionsFile:1\n",
      "fixes:2\n",
      "Database:1\n",
      "better.28:1\n",
      "Apache:1\n",
      "itemkPrevious:1\n",
      "also:19\n",
      "7.3.0RC1:2\n",
      "ExtensionsMathematical:1\n",
      "boxPHP:1\n",
      "PHPKeeping:1\n",
      "1,:2\n",
      "RC1,:1\n",
      "Time:1\n",
      "better.07:1\n",
      "GroupMy:1\n",
      "better.17:2\n",
      "7.3.0.beta3:1\n",
      "is:37\n",
      "can:58\n",
      "page.:7\n",
      "onthe:8\n",
      "A:12\n",
      "EntriesUpcoming:1\n",
      "PHPCookiesSessionsDealing:1\n",
      "Protocols:1\n",
      "site.Thank:8\n",
      "31th:1\n",
      "SecurityDatabase:1\n",
      "page,:7\n",
      "complete:13\n",
      "30th.The:1\n",
      "suited:1\n",
      "5.The:1\n",
      "world.Download5.6.38·Release:1\n",
      "filesConnection:1\n",
      "bugs:5\n",
      "be:53\n",
      "DEVELOPMENT:12\n",
      "7.1.21:2\n",
      "moduleSession:1\n",
      "final:1\n",
      "page)/Focus:1\n",
      "outline:8\n",
      "ReferenceAffecting:1\n",
      "conferencesPHP:1\n",
      "PRODUCTION!For:12\n",
      "bottomg:1\n",
      "relative:1\n",
      "recorded:7\n",
      "web:1\n",
      "authentication:1\n",
      "security:7\n",
      "users:12\n",
      "ExtensionsCompression:1\n",
      "will:5\n",
      "1.:2\n",
      "carefully:8\n",
      "Alpha:12\n",
      "everything:1\n",
      "read:18\n",
      "release:51\n",
      "in:49\n",
      "scripting:1\n",
      "inthe:8\n",
      "ExceptionsPredefined:1\n",
      "version.For:8\n",
      "7.2.9:2\n",
      "7.3.0beta2:1\n",
      "manifestor:8\n",
      "fourth:2\n",
      "Aug:7\n",
      "better.13:1\n",
      "21.The:1\n",
      "DO:13\n",
      "availability:12\n",
      "binaries:19\n",
      "encouraged:12\n",
      "reporting:8\n",
      "would:8\n",
      "13th.The:1\n",
      "theUPGRADINGfile:13\n",
      "glad:8\n",
      "contains:2\n",
      "3,:2\n",
      "GlobalsUser:1\n",
      "PHP.net:1\n",
      "7.1.21.:1\n",
      "Register:1\n",
      "Oct:1\n",
      "first:4\n",
      "syntaxTypesVariablesConstantsExpressionsOperatorsControl:1\n",
      "VariablesPredefined:1\n",
      "ThanksSocial:1\n",
      "on:19\n",
      "announced:2\n",
      "IS:12\n",
      "parametersSupported:1\n",
      "OutputProcess:1\n",
      "with:3\n",
      "ExtensionsWeb:1\n",
      "upgrade:7\n",
      "GenerationMail:1\n",
      "information:13\n",
      "onwindows.php.net/qa/.The:1\n",
      "SecurityError:1\n",
      "this:24\n",
      "ClassesContext:1\n",
      "changes,:13\n",
      "These:13\n",
      "rough:8\n",
      "release.:7\n",
      "new:13\n",
      "us:13\n",
      "incompatibilities:5\n",
      "next:11\n",
      "binaryInstalled:1\n",
      "page.Please:1\n",
      "menu:2\n",
      "announce:8\n",
      "QuotesHiding:1\n",
      "ObjectsNamespacesErrorsExceptionsGeneratorsReferences:1\n",
      "minor:1\n",
      "Candidate:14\n",
      "second:2\n",
      "IT:12\n",
      "homepageg:1\n",
      "ManipulationGUI:1\n",
      "5.6.38.:1\n",
      "September:2\n",
      "19th.The:1\n",
      "5.6.38:2\n",
      "better.19:1\n",
      "tracking:5\n",
      "27th.The:1\n",
      "TracingFunction:1\n",
      "Shortcuts?This:1\n",
      "issues:8\n",
      "seventh:1\n",
      "Related:4\n",
      "One:3\n",
      "found:48\n",
      "BehaviourAudio:1\n",
      "immediate:12\n",
      "5.6:1\n",
      "helping:13\n",
      "2018Northeast:1\n",
      "policy:1\n",
      "RC2,:1\n",
      "development.Fast,:1\n",
      "CollectionDTrace:1\n",
      "blog:1\n",
      "ProcessingCryptography:1\n",
      "PHP's:1\n",
      "7.3.0beta2.:1\n",
      "RC3.:1\n",
      "Jul:3\n",
      "man:2\n",
      "releases:5\n",
      "Feb:1\n",
      "SecurityFilesystem:1\n",
      "for:46\n",
      "general-purpose:1\n",
      "simple:1\n",
      "ManipulationAuthentication:1\n",
      "starts:1\n",
      "2018User:1\n",
      "August:3\n",
      "sources:12\n",
      "onwindows.php.net/qa/.Please:7\n",
      "2018PHP:15\n",
      "Language:1\n",
      "more:12\n",
      "popular:2\n",
      "12th:1\n",
      "PreprocessorDownloadsDocumentationGet:1\n",
      "September.:1\n",
      "production,:1\n",
      "7.3.0beta1.:1\n",
      "Engine:1\n",
      "Notes·Upgrading7.2.10·Release:1\n",
      "ExtensionsNon-Text:1\n",
      "signatures:8\n",
      "theChangeLog.13:3\n",
      "ExplainedPredefined:1\n",
      "specified:8\n",
      "sGoto:1\n",
      "Line:1\n",
      "USE:12\n",
      "ExtensionsSession:1\n",
      "uploadsUsing:1\n",
      "Processing:1\n",
      "the:86\n",
      "7.1.22:2\n",
      "bug:5\n",
      "XFormsHandling:1\n",
      "Day:1\n",
      "July.:1\n",
      "as:2\n",
      "CGI:1\n",
      "pragmatic,:1\n",
      "early:1\n",
      "Interfaces:1\n",
      "any:13\n",
      "released:3\n",
      "16th.The:1\n",
      "IN:12\n",
      "-:12\n",
      "are:15\n",
      "file:1\n",
      "PREVIEW:12\n",
      "7.1.22.:1\n",
      "EventsSpecial:1\n",
      "DataMagic:1\n",
      "News:1\n",
      "better.21:1\n",
      "line:1\n",
      "Dynamic:1\n",
      "theNEWSfile,:13\n",
      "Release:14\n",
      "gScroll:1\n",
      "fifth:1\n",
      "ServicesWindows:1\n",
      "7.2:3\n",
      "third:3\n",
      "Archive:1\n",
      "better.Older:1\n",
      "to:32\n",
      "pageGScroll:1\n",
      "fixed:3\n",
      "Group:1\n",
      "helpjNext:1\n",
      "pPrevious:1\n",
      "changes:10\n",
      "ExtensionsDatabase:1\n",
      "better.06:1\n",
      "improvements:1\n",
      "better.01:1\n",
      "wiki.Thank:4\n",
      "4:2\n",
      "sitesMirror:1\n",
      "3.:3\n",
      "ModeCommand:1\n",
      "7.0.32:2\n",
      "Formats:1\n",
      "included.All:1\n",
      "7.2.2.:1\n",
      "and:62\n",
      "itemg:1\n",
      "topg:1\n",
      "alpha:3\n",
      "7.2.2:2\n",
      "you:26\n",
      "an:2\n",
      "hGoto:1\n",
      "2017PHP:5\n",
      "your:1\n",
      "October.:2\n",
      "sixth:1\n",
      "most:1\n",
      "atwindows.php.net/qa/.The:4\n",
      "make:13\n",
      "ReleasedPHP:1\n",
      "&:1\n",
      "7.3.0RC1.:1\n",
      "NOT:13\n",
      "Internal:3\n",
      "from:1\n",
      "thedownloadpage,:5\n",
      "other:13\n",
      "theUPGRADING.INTERNALSfile.:3\n",
      "better.31:1\n",
      "tutorialLanguage:1\n",
      "7.2.0.:4\n",
      "7.3.0beta3:1\n",
      "media@official_phpCopyright:1\n",
      "This:13\n",
      "it:1\n",
      "websites:1\n",
      "ExtensionsDate:1\n",
      "Only:1\n",
      "pageg:1\n",
      "Beta:7\n",
      "fixes.All:1\n",
      "7.0.32.:1\n",
      "2:2\n",
      "or:13\n",
      "pre-release,:1\n",
      "search:1\n",
      "PHP:103\n",
      "The:15\n",
      "2.:2\n",
      "Curitiba:1\n",
      "©:1\n",
      "7.3.0:17\n",
      "report:13\n",
      "June:1\n",
      "listed:3\n",
      "Notes·Upgrading13:1\n",
      "upgrading:13\n",
      "ServicesCommand:1\n",
      "ourdownloads:7\n",
      "sitesPrivacy:1\n",
      "features:13\n",
      "Specific:2\n",
      "better.05:1\n",
      "ExtensionsHuman:1\n",
      "7.2.10.:1\n",
      "downloads:20\n",
      "PHP::1\n",
      "Notes·Upgrading7.0.32·Release:1\n",
      "better.02:1\n",
      "full:5\n",
      "Wiki.For:8\n",
      "especially:1\n",
      "theChangeLog.16:2\n",
      "7.2.0:15\n",
      "notes.:13\n",
      "ExtensionsXML:1\n",
      "system.THIS:12\n",
      "ExtensionsServer:1\n",
      "powers:1\n",
      "search(current:1\n",
      "Character:1\n",
      "ServicesSearch:1\n",
      "System:1\n",
      "onour:4\n",
      "PHP.netContactOther:1\n",
      "onwindows.php.net/download/.:7\n",
      "OpenEnterprise:1\n",
      "usageGarbage:1\n",
      "use:1\n",
      "beta:2\n",
      "flexible:1\n",
      "7.3.0.beta2:1\n",
      "7.3.0alpha4.:1\n",
      "WrappersSecurityIntroductionGeneral:1\n",
      "July:2\n",
      "ReleasedThe:19\n",
      "2018php[world]:1\n",
      "7.3.0beta1:1\n",
      "planned:13\n",
      "MIME:1\n",
      "announces:12\n",
      "ExtensionsOther:2\n",
      "3:8\n",
      "development:12\n",
      "ExtensionsCredit:1\n",
      "RC4.:1\n"
     ]
    }
   ],
   "source": [
    "wordfreq = nltk.FreqDist(words)\n",
    "for key,val in wordfreq.items():\n",
    " \n",
    "    print (str(key) + ':' + str(val))"
   ]
  },
  {
   "cell_type": "markdown",
   "metadata": {},
   "source": [
    "# Frequency Distibution Plot for the most commonly ocuuring 30 words"
   ]
  },
  {
   "cell_type": "code",
   "execution_count": 77,
   "metadata": {},
   "outputs": [
    {
     "data": {
      "image/png": "[encoded data removed]",
      "text/plain": [
       "<matplotlib.figure.Figure at 0xd0fbef0>"
      ]
     },
     "metadata": {},
     "output_type": "display_data"
    }
   ],
   "source": [
    "wordfreq.plot(30, cumulative=False)"
   ]
  },
  {
   "cell_type": "markdown",
   "metadata": {},
   "source": [
    "#### Note\n",
    "\n",
    "There are some words like The, Of, a, an, and so on. These words are stop words.\n",
    "Generally, stop words should be removed to prevent them from affecting our results."
   ]
  },
  {
   "cell_type": "code",
   "execution_count": 78,
   "metadata": {},
   "outputs": [],
   "source": [
    "from nltk.corpus import stopwords\n",
    "import string\n",
    "words = [i for i in sentences.split() if (i not in stopwords.words('english')) & (i not in string.punctuation)]"
   ]
  },
  {
   "cell_type": "code",
   "execution_count": 79,
   "metadata": {},
   "outputs": [
    {
     "data": {
      "text/plain": [
       "1740"
      ]
     },
     "execution_count": 79,
     "metadata": {},
     "output_type": "execute_result"
    }
   ],
   "source": [
    "len(words)"
   ]
  },
  {
   "cell_type": "markdown",
   "metadata": {},
   "source": [
    "# Frequency Distibution Plot for the most commonly ocuuring 30 words"
   ]
  },
  {
   "cell_type": "code",
   "execution_count": 80,
   "metadata": {},
   "outputs": [
    {
     "data": {
      "image/png": "[encoded data removed]",
      "text/plain": [
       "<matplotlib.figure.Figure at 0x9a72a20>"
      ]
     },
     "metadata": {},
     "output_type": "display_data"
    }
   ],
   "source": [
    "wordfreq = nltk.FreqDist(words)\n",
    "wordfreq.plot(30, cumulative=False)\n"
   ]
  },
  {
   "cell_type": "markdown",
   "metadata": {},
   "source": [
    "#### Note\n",
    "Stopwords has been removed using nltk.corpus.stopwords library."
   ]
  },
  {
   "cell_type": "markdown",
   "metadata": {},
   "source": [
    "# Tokenizing using NLTK"
   ]
  },
  {
   "cell_type": "code",
   "execution_count": 84,
   "metadata": {
    "collapsed": true
   },
   "outputs": [],
   "source": [
    "sentences = nltk.sent_tokenize(text)\n",
    "words = []\n",
    "for i in range(len(sentences)):\n",
    "    word = nltk.word_tokenize(sentences[i])\n",
    "    for j in word:\n",
    "        if j not in string.punctuation:#remove punctuations as a part of being considered as token\n",
    "            words.append(j)"
   ]
  },
  {
   "cell_type": "code",
   "execution_count": 85,
   "metadata": {},
   "outputs": [
    {
     "data": {
      "text/plain": [
       "2445"
      ]
     },
     "execution_count": 85,
     "metadata": {},
     "output_type": "execute_result"
    }
   ],
   "source": [
    "len(words)"
   ]
  },
  {
   "cell_type": "code",
   "execution_count": 86,
   "metadata": {},
   "outputs": [
    {
     "data": {
      "image/png": "[encoded data removed]",
      "text/plain": [
       "<matplotlib.figure.Figure at 0xdd6dfd0>"
      ]
     },
     "metadata": {},
     "output_type": "display_data"
    }
   ],
   "source": [
    "freq = nltk.FreqDist(words)\n",
    "freq.plot(30,cumulative=False)"
   ]
  },
  {
   "cell_type": "markdown",
   "metadata": {},
   "source": [
    "#### Genearting tokens without stopwords"
   ]
  },
  {
   "cell_type": "code",
   "execution_count": 87,
   "metadata": {},
   "outputs": [],
   "source": [
    "words_no_stopwords =[]\n",
    "for i in range(len(sentences)):\n",
    "    word = nltk.word_tokenize(sentences[i])\n",
    "    \n",
    "    for j in word:\n",
    "        \n",
    "        if (j not in stopwords.words('english'))  & (j not in string.punctuation):\n",
    "         \n",
    "            #print(j)\n",
    "            words_no_stopwords.append(j)"
   ]
  },
  {
   "cell_type": "code",
   "execution_count": 88,
   "metadata": {},
   "outputs": [
    {
     "data": {
      "text/plain": [
       "1758"
      ]
     },
     "execution_count": 88,
     "metadata": {},
     "output_type": "execute_result"
    }
   ],
   "source": [
    "len(words_no_stopwords)"
   ]
  },
  {
   "cell_type": "code",
   "execution_count": 89,
   "metadata": {},
   "outputs": [
    {
     "data": {
      "image/png": "[encoded data removed]",
      "text/plain": [
       "<matplotlib.figure.Figure at 0xde97cc0>"
      ]
     },
     "metadata": {},
     "output_type": "display_data"
    }
   ],
   "source": [
    "freq = nltk.FreqDist(words_no_stopwords)\n",
    "freq.plot(30,cumulative=False)"
   ]
  },
  {
   "cell_type": "code",
   "execution_count": null,
   "metadata": {
    "collapsed": true
   },
   "outputs": [],
   "source": []
  }
 ],
 "metadata": {
  "kernelspec": {
   "display_name": "Python 3",
   "language": "python",
   "name": "python3"
  },
  "language_info": {
   "codemirror_mode": {
    "name": "ipython",
    "version": 3
   },
   "file_extension": ".py",
   "mimetype": "text/x-python",
   "name": "python",
   "nbconvert_exporter": "python",
   "pygments_lexer": "ipython3",
   "version": "3.5.4"
  }
 },
 "nbformat": 4,
 "nbformat_minor": 2
}
